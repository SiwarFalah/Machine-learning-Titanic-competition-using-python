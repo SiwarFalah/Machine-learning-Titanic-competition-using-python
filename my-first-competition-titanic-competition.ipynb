{
 "cells": [
  {
   "cell_type": "code",
   "execution_count": 1,
   "id": "cd385038",
   "metadata": {
    "_cell_guid": "b1076dfc-b9ad-4769-8c92-a6c4dae69d19",
    "_uuid": "8f2839f25d086af736a60e9eeb907d3b93b6e0e5",
    "execution": {
     "iopub.execute_input": "2022-03-26T18:24:06.580054Z",
     "iopub.status.busy": "2022-03-26T18:24:06.579339Z",
     "iopub.status.idle": "2022-03-26T18:24:06.585696Z",
     "shell.execute_reply": "2022-03-26T18:24:06.585066Z",
     "shell.execute_reply.started": "2022-03-26T17:36:12.399004Z"
    },
    "papermill": {
     "duration": 0.050872,
     "end_time": "2022-03-26T18:24:06.585910",
     "exception": false,
     "start_time": "2022-03-26T18:24:06.535038",
     "status": "completed"
    },
    "tags": []
   },
   "outputs": [
    {
     "name": "stdout",
     "output_type": "stream",
     "text": [
      "/kaggle/input/titanic/train.csv\n",
      "/kaggle/input/titanic/test.csv\n",
      "/kaggle/input/titanic/gender_submission.csv\n"
     ]
    }
   ],
   "source": [
    "##### This Python 3 environment comes with many helpful analytics libraries installed\n",
    "# It is defined by the kaggle/python Docker image: https://github.com/kaggle/docker-python\n",
    "# For example, here's several helpful packages to load\n",
    "\n",
    "import numpy as np # linear algebra\n",
    "import pandas as pd # data processing, CSV file I/O (e.g. pd.read_csv)\n",
    "\n",
    "# Input data files are available in the read-only \"../input/\" directory\n",
    "# For example, running this (by clicking run or pressing Shift+Enter) will list all files under the input directory\n",
    "\n",
    "import os\n",
    "for dirname, _, filenames in os.walk('/kaggle/input'):\n",
    "    for filename in filenames:\n",
    "        print(os.path.join(dirname, filename))\n",
    "\n",
    "# You can write up to 20GB to the current directory (/kaggle/working/) that gets preserved as output when you create a version using \"Save & Run All\" \n",
    "# You can also write temporary files to /kaggle/temp/, but they won't be saved outside of the current session"
   ]
  },
  {
   "cell_type": "markdown",
   "id": "7a712032",
   "metadata": {
    "papermill": {
     "duration": 0.030433,
     "end_time": "2022-03-26T18:24:06.648725",
     "exception": false,
     "start_time": "2022-03-26T18:24:06.618292",
     "status": "completed"
    },
    "tags": []
   },
   "source": [
    "Welcome to my first code competition here, in this assignement im gonna show the probability of people survival,Currently learning a lot after looking through other codes on different ways to do them.\n",
    "Enjoy."
   ]
  },
  {
   "cell_type": "markdown",
   "id": "f2a0a055",
   "metadata": {
    "papermill": {
     "duration": 0.03462,
     "end_time": "2022-03-26T18:24:06.713882",
     "exception": false,
     "start_time": "2022-03-26T18:24:06.679262",
     "status": "completed"
    },
    "tags": []
   },
   "source": [
    "first of all i will import libraries"
   ]
  },
  {
   "cell_type": "code",
   "execution_count": 2,
   "id": "e67306c2",
   "metadata": {
    "execution": {
     "iopub.execute_input": "2022-03-26T18:24:06.799266Z",
     "iopub.status.busy": "2022-03-26T18:24:06.798494Z",
     "iopub.status.idle": "2022-03-26T18:24:07.881458Z",
     "shell.execute_reply": "2022-03-26T18:24:07.881997Z",
     "shell.execute_reply.started": "2022-03-26T17:36:12.501598Z"
    },
    "papermill": {
     "duration": 1.129438,
     "end_time": "2022-03-26T18:24:07.882177",
     "exception": false,
     "start_time": "2022-03-26T18:24:06.752739",
     "status": "completed"
    },
    "tags": []
   },
   "outputs": [
    {
     "data": {
      "text/plain": [
       "(<module 'seaborn' from '/opt/conda/lib/python3.7/site-packages/seaborn/__init__.py'>,\n",
       " set())"
      ]
     },
     "execution_count": 2,
     "metadata": {},
     "output_type": "execute_result"
    }
   ],
   "source": [
    "import pandas as pd\n",
    "import numpy as np\n",
    "import matplotlib.pyplot as plt\n",
    "%matplotlib inline\n",
    "import seaborn as sns\n",
    "sns,set()"
   ]
  },
  {
   "cell_type": "markdown",
   "id": "74efef51",
   "metadata": {
    "papermill": {
     "duration": 0.030639,
     "end_time": "2022-03-26T18:24:07.945134",
     "exception": false,
     "start_time": "2022-03-26T18:24:07.914495",
     "status": "completed"
    },
    "tags": []
   },
   "source": [
    "and then i will import the data"
   ]
  },
  {
   "cell_type": "markdown",
   "id": "159a96df",
   "metadata": {
    "papermill": {
     "duration": 0.031868,
     "end_time": "2022-03-26T18:24:08.008829",
     "exception": false,
     "start_time": "2022-03-26T18:24:07.976961",
     "status": "completed"
    },
    "tags": []
   },
   "source": [
    "**for the train:**"
   ]
  },
  {
   "cell_type": "code",
   "execution_count": 3,
   "id": "c9dc4a09",
   "metadata": {
    "execution": {
     "iopub.execute_input": "2022-03-26T18:24:08.077013Z",
     "iopub.status.busy": "2022-03-26T18:24:08.076300Z",
     "iopub.status.idle": "2022-03-26T18:24:08.109223Z",
     "shell.execute_reply": "2022-03-26T18:24:08.109715Z",
     "shell.execute_reply.started": "2022-03-26T17:36:12.620122Z"
    },
    "papermill": {
     "duration": 0.069714,
     "end_time": "2022-03-26T18:24:08.109889",
     "exception": false,
     "start_time": "2022-03-26T18:24:08.040175",
     "status": "completed"
    },
    "tags": []
   },
   "outputs": [
    {
     "data": {
      "text/html": [
       "<div>\n",
       "<style scoped>\n",
       "    .dataframe tbody tr th:only-of-type {\n",
       "        vertical-align: middle;\n",
       "    }\n",
       "\n",
       "    .dataframe tbody tr th {\n",
       "        vertical-align: top;\n",
       "    }\n",
       "\n",
       "    .dataframe thead th {\n",
       "        text-align: right;\n",
       "    }\n",
       "</style>\n",
       "<table border=\"1\" class=\"dataframe\">\n",
       "  <thead>\n",
       "    <tr style=\"text-align: right;\">\n",
       "      <th></th>\n",
       "      <th>PassengerId</th>\n",
       "      <th>Survived</th>\n",
       "      <th>Pclass</th>\n",
       "      <th>Name</th>\n",
       "      <th>Sex</th>\n",
       "      <th>Age</th>\n",
       "      <th>SibSp</th>\n",
       "      <th>Parch</th>\n",
       "      <th>Ticket</th>\n",
       "      <th>Fare</th>\n",
       "      <th>Cabin</th>\n",
       "      <th>Embarked</th>\n",
       "    </tr>\n",
       "  </thead>\n",
       "  <tbody>\n",
       "    <tr>\n",
       "      <th>0</th>\n",
       "      <td>1</td>\n",
       "      <td>0</td>\n",
       "      <td>3</td>\n",
       "      <td>Braund, Mr. Owen Harris</td>\n",
       "      <td>male</td>\n",
       "      <td>22.0</td>\n",
       "      <td>1</td>\n",
       "      <td>0</td>\n",
       "      <td>A/5 21171</td>\n",
       "      <td>7.2500</td>\n",
       "      <td>NaN</td>\n",
       "      <td>S</td>\n",
       "    </tr>\n",
       "    <tr>\n",
       "      <th>1</th>\n",
       "      <td>2</td>\n",
       "      <td>1</td>\n",
       "      <td>1</td>\n",
       "      <td>Cumings, Mrs. John Bradley (Florence Briggs Th...</td>\n",
       "      <td>female</td>\n",
       "      <td>38.0</td>\n",
       "      <td>1</td>\n",
       "      <td>0</td>\n",
       "      <td>PC 17599</td>\n",
       "      <td>71.2833</td>\n",
       "      <td>C85</td>\n",
       "      <td>C</td>\n",
       "    </tr>\n",
       "    <tr>\n",
       "      <th>2</th>\n",
       "      <td>3</td>\n",
       "      <td>1</td>\n",
       "      <td>3</td>\n",
       "      <td>Heikkinen, Miss. Laina</td>\n",
       "      <td>female</td>\n",
       "      <td>26.0</td>\n",
       "      <td>0</td>\n",
       "      <td>0</td>\n",
       "      <td>STON/O2. 3101282</td>\n",
       "      <td>7.9250</td>\n",
       "      <td>NaN</td>\n",
       "      <td>S</td>\n",
       "    </tr>\n",
       "    <tr>\n",
       "      <th>3</th>\n",
       "      <td>4</td>\n",
       "      <td>1</td>\n",
       "      <td>1</td>\n",
       "      <td>Futrelle, Mrs. Jacques Heath (Lily May Peel)</td>\n",
       "      <td>female</td>\n",
       "      <td>35.0</td>\n",
       "      <td>1</td>\n",
       "      <td>0</td>\n",
       "      <td>113803</td>\n",
       "      <td>53.1000</td>\n",
       "      <td>C123</td>\n",
       "      <td>S</td>\n",
       "    </tr>\n",
       "    <tr>\n",
       "      <th>4</th>\n",
       "      <td>5</td>\n",
       "      <td>0</td>\n",
       "      <td>3</td>\n",
       "      <td>Allen, Mr. William Henry</td>\n",
       "      <td>male</td>\n",
       "      <td>35.0</td>\n",
       "      <td>0</td>\n",
       "      <td>0</td>\n",
       "      <td>373450</td>\n",
       "      <td>8.0500</td>\n",
       "      <td>NaN</td>\n",
       "      <td>S</td>\n",
       "    </tr>\n",
       "  </tbody>\n",
       "</table>\n",
       "</div>"
      ],
      "text/plain": [
       "   PassengerId  Survived  Pclass  \\\n",
       "0            1         0       3   \n",
       "1            2         1       1   \n",
       "2            3         1       3   \n",
       "3            4         1       1   \n",
       "4            5         0       3   \n",
       "\n",
       "                                                Name     Sex   Age  SibSp  \\\n",
       "0                            Braund, Mr. Owen Harris    male  22.0      1   \n",
       "1  Cumings, Mrs. John Bradley (Florence Briggs Th...  female  38.0      1   \n",
       "2                             Heikkinen, Miss. Laina  female  26.0      0   \n",
       "3       Futrelle, Mrs. Jacques Heath (Lily May Peel)  female  35.0      1   \n",
       "4                           Allen, Mr. William Henry    male  35.0      0   \n",
       "\n",
       "   Parch            Ticket     Fare Cabin Embarked  \n",
       "0      0         A/5 21171   7.2500   NaN        S  \n",
       "1      0          PC 17599  71.2833   C85        C  \n",
       "2      0  STON/O2. 3101282   7.9250   NaN        S  \n",
       "3      0            113803  53.1000  C123        S  \n",
       "4      0            373450   8.0500   NaN        S  "
      ]
     },
     "execution_count": 3,
     "metadata": {},
     "output_type": "execute_result"
    }
   ],
   "source": [
    "data = pd.read_csv('/kaggle/input/titanic/train.csv')\n",
    "data.head()\n"
   ]
  },
  {
   "cell_type": "markdown",
   "id": "ef2e6d01",
   "metadata": {
    "papermill": {
     "duration": 0.033879,
     "end_time": "2022-03-26T18:24:08.177648",
     "exception": false,
     "start_time": "2022-03-26T18:24:08.143769",
     "status": "completed"
    },
    "tags": []
   },
   "source": [
    "**for the test:**"
   ]
  },
  {
   "cell_type": "code",
   "execution_count": 4,
   "id": "f23ab363",
   "metadata": {
    "execution": {
     "iopub.execute_input": "2022-03-26T18:24:08.247933Z",
     "iopub.status.busy": "2022-03-26T18:24:08.247280Z",
     "iopub.status.idle": "2022-03-26T18:24:08.277935Z",
     "shell.execute_reply": "2022-03-26T18:24:08.278555Z",
     "shell.execute_reply.started": "2022-03-26T17:36:12.721777Z"
    },
    "papermill": {
     "duration": 0.066258,
     "end_time": "2022-03-26T18:24:08.278753",
     "exception": false,
     "start_time": "2022-03-26T18:24:08.212495",
     "status": "completed"
    },
    "tags": []
   },
   "outputs": [
    {
     "data": {
      "text/html": [
       "<div>\n",
       "<style scoped>\n",
       "    .dataframe tbody tr th:only-of-type {\n",
       "        vertical-align: middle;\n",
       "    }\n",
       "\n",
       "    .dataframe tbody tr th {\n",
       "        vertical-align: top;\n",
       "    }\n",
       "\n",
       "    .dataframe thead th {\n",
       "        text-align: right;\n",
       "    }\n",
       "</style>\n",
       "<table border=\"1\" class=\"dataframe\">\n",
       "  <thead>\n",
       "    <tr style=\"text-align: right;\">\n",
       "      <th></th>\n",
       "      <th>PassengerId</th>\n",
       "      <th>Pclass</th>\n",
       "      <th>Name</th>\n",
       "      <th>Sex</th>\n",
       "      <th>Age</th>\n",
       "      <th>SibSp</th>\n",
       "      <th>Parch</th>\n",
       "      <th>Ticket</th>\n",
       "      <th>Fare</th>\n",
       "      <th>Cabin</th>\n",
       "      <th>Embarked</th>\n",
       "    </tr>\n",
       "  </thead>\n",
       "  <tbody>\n",
       "    <tr>\n",
       "      <th>0</th>\n",
       "      <td>892</td>\n",
       "      <td>3</td>\n",
       "      <td>Kelly, Mr. James</td>\n",
       "      <td>male</td>\n",
       "      <td>34.5</td>\n",
       "      <td>0</td>\n",
       "      <td>0</td>\n",
       "      <td>330911</td>\n",
       "      <td>7.8292</td>\n",
       "      <td>NaN</td>\n",
       "      <td>Q</td>\n",
       "    </tr>\n",
       "    <tr>\n",
       "      <th>1</th>\n",
       "      <td>893</td>\n",
       "      <td>3</td>\n",
       "      <td>Wilkes, Mrs. James (Ellen Needs)</td>\n",
       "      <td>female</td>\n",
       "      <td>47.0</td>\n",
       "      <td>1</td>\n",
       "      <td>0</td>\n",
       "      <td>363272</td>\n",
       "      <td>7.0000</td>\n",
       "      <td>NaN</td>\n",
       "      <td>S</td>\n",
       "    </tr>\n",
       "    <tr>\n",
       "      <th>2</th>\n",
       "      <td>894</td>\n",
       "      <td>2</td>\n",
       "      <td>Myles, Mr. Thomas Francis</td>\n",
       "      <td>male</td>\n",
       "      <td>62.0</td>\n",
       "      <td>0</td>\n",
       "      <td>0</td>\n",
       "      <td>240276</td>\n",
       "      <td>9.6875</td>\n",
       "      <td>NaN</td>\n",
       "      <td>Q</td>\n",
       "    </tr>\n",
       "    <tr>\n",
       "      <th>3</th>\n",
       "      <td>895</td>\n",
       "      <td>3</td>\n",
       "      <td>Wirz, Mr. Albert</td>\n",
       "      <td>male</td>\n",
       "      <td>27.0</td>\n",
       "      <td>0</td>\n",
       "      <td>0</td>\n",
       "      <td>315154</td>\n",
       "      <td>8.6625</td>\n",
       "      <td>NaN</td>\n",
       "      <td>S</td>\n",
       "    </tr>\n",
       "    <tr>\n",
       "      <th>4</th>\n",
       "      <td>896</td>\n",
       "      <td>3</td>\n",
       "      <td>Hirvonen, Mrs. Alexander (Helga E Lindqvist)</td>\n",
       "      <td>female</td>\n",
       "      <td>22.0</td>\n",
       "      <td>1</td>\n",
       "      <td>1</td>\n",
       "      <td>3101298</td>\n",
       "      <td>12.2875</td>\n",
       "      <td>NaN</td>\n",
       "      <td>S</td>\n",
       "    </tr>\n",
       "  </tbody>\n",
       "</table>\n",
       "</div>"
      ],
      "text/plain": [
       "   PassengerId  Pclass                                          Name     Sex  \\\n",
       "0          892       3                              Kelly, Mr. James    male   \n",
       "1          893       3              Wilkes, Mrs. James (Ellen Needs)  female   \n",
       "2          894       2                     Myles, Mr. Thomas Francis    male   \n",
       "3          895       3                              Wirz, Mr. Albert    male   \n",
       "4          896       3  Hirvonen, Mrs. Alexander (Helga E Lindqvist)  female   \n",
       "\n",
       "    Age  SibSp  Parch   Ticket     Fare Cabin Embarked  \n",
       "0  34.5      0      0   330911   7.8292   NaN        Q  \n",
       "1  47.0      1      0   363272   7.0000   NaN        S  \n",
       "2  62.0      0      0   240276   9.6875   NaN        Q  \n",
       "3  27.0      0      0   315154   8.6625   NaN        S  \n",
       "4  22.0      1      1  3101298  12.2875   NaN        S  "
      ]
     },
     "execution_count": 4,
     "metadata": {},
     "output_type": "execute_result"
    }
   ],
   "source": [
    "check = pd.read_csv('/kaggle/input/titanic/test.csv')\n",
    "check.head()"
   ]
  },
  {
   "cell_type": "markdown",
   "id": "2ced15b8",
   "metadata": {
    "papermill": {
     "duration": 0.032121,
     "end_time": "2022-03-26T18:24:08.343686",
     "exception": false,
     "start_time": "2022-03-26T18:24:08.311565",
     "status": "completed"
    },
    "tags": []
   },
   "source": [
    "**for the gender submission:**"
   ]
  },
  {
   "cell_type": "code",
   "execution_count": 5,
   "id": "de7d0d25",
   "metadata": {
    "execution": {
     "iopub.execute_input": "2022-03-26T18:24:08.413688Z",
     "iopub.status.busy": "2022-03-26T18:24:08.412743Z",
     "iopub.status.idle": "2022-03-26T18:24:08.427051Z",
     "shell.execute_reply": "2022-03-26T18:24:08.427661Z",
     "shell.execute_reply.started": "2022-03-26T17:36:12.829234Z"
    },
    "papermill": {
     "duration": 0.050444,
     "end_time": "2022-03-26T18:24:08.427830",
     "exception": false,
     "start_time": "2022-03-26T18:24:08.377386",
     "status": "completed"
    },
    "tags": []
   },
   "outputs": [
    {
     "data": {
      "text/html": [
       "<div>\n",
       "<style scoped>\n",
       "    .dataframe tbody tr th:only-of-type {\n",
       "        vertical-align: middle;\n",
       "    }\n",
       "\n",
       "    .dataframe tbody tr th {\n",
       "        vertical-align: top;\n",
       "    }\n",
       "\n",
       "    .dataframe thead th {\n",
       "        text-align: right;\n",
       "    }\n",
       "</style>\n",
       "<table border=\"1\" class=\"dataframe\">\n",
       "  <thead>\n",
       "    <tr style=\"text-align: right;\">\n",
       "      <th></th>\n",
       "      <th>PassengerId</th>\n",
       "      <th>Survived</th>\n",
       "    </tr>\n",
       "  </thead>\n",
       "  <tbody>\n",
       "    <tr>\n",
       "      <th>0</th>\n",
       "      <td>892</td>\n",
       "      <td>0</td>\n",
       "    </tr>\n",
       "    <tr>\n",
       "      <th>1</th>\n",
       "      <td>893</td>\n",
       "      <td>1</td>\n",
       "    </tr>\n",
       "    <tr>\n",
       "      <th>2</th>\n",
       "      <td>894</td>\n",
       "      <td>0</td>\n",
       "    </tr>\n",
       "    <tr>\n",
       "      <th>3</th>\n",
       "      <td>895</td>\n",
       "      <td>0</td>\n",
       "    </tr>\n",
       "    <tr>\n",
       "      <th>4</th>\n",
       "      <td>896</td>\n",
       "      <td>1</td>\n",
       "    </tr>\n",
       "  </tbody>\n",
       "</table>\n",
       "</div>"
      ],
      "text/plain": [
       "   PassengerId  Survived\n",
       "0          892         0\n",
       "1          893         1\n",
       "2          894         0\n",
       "3          895         0\n",
       "4          896         1"
      ]
     },
     "execution_count": 5,
     "metadata": {},
     "output_type": "execute_result"
    }
   ],
   "source": [
    "gender = pd.read_csv(\"/kaggle/input/titanic/gender_submission.csv\")\n",
    "gender.head()"
   ]
  },
  {
   "cell_type": "markdown",
   "id": "839a862a",
   "metadata": {
    "papermill": {
     "duration": 0.03268,
     "end_time": "2022-03-26T18:24:08.493717",
     "exception": false,
     "start_time": "2022-03-26T18:24:08.461037",
     "status": "completed"
    },
    "tags": []
   },
   "source": [
    "Now I\"m gonna check if there is a missing data "
   ]
  },
  {
   "cell_type": "code",
   "execution_count": 6,
   "id": "7d010e73",
   "metadata": {
    "execution": {
     "iopub.execute_input": "2022-03-26T18:24:08.562334Z",
     "iopub.status.busy": "2022-03-26T18:24:08.561741Z",
     "iopub.status.idle": "2022-03-26T18:24:08.585713Z",
     "shell.execute_reply": "2022-03-26T18:24:08.584908Z",
     "shell.execute_reply.started": "2022-03-26T17:36:12.928173Z"
    },
    "papermill": {
     "duration": 0.059445,
     "end_time": "2022-03-26T18:24:08.585907",
     "exception": false,
     "start_time": "2022-03-26T18:24:08.526462",
     "status": "completed"
    },
    "tags": []
   },
   "outputs": [
    {
     "name": "stdout",
     "output_type": "stream",
     "text": [
      "<class 'pandas.core.frame.DataFrame'>\n",
      "RangeIndex: 891 entries, 0 to 890\n",
      "Data columns (total 12 columns):\n",
      " #   Column       Non-Null Count  Dtype  \n",
      "---  ------       --------------  -----  \n",
      " 0   PassengerId  891 non-null    int64  \n",
      " 1   Survived     891 non-null    int64  \n",
      " 2   Pclass       891 non-null    int64  \n",
      " 3   Name         891 non-null    object \n",
      " 4   Sex          891 non-null    object \n",
      " 5   Age          714 non-null    float64\n",
      " 6   SibSp        891 non-null    int64  \n",
      " 7   Parch        891 non-null    int64  \n",
      " 8   Ticket       891 non-null    object \n",
      " 9   Fare         891 non-null    float64\n",
      " 10  Cabin        204 non-null    object \n",
      " 11  Embarked     889 non-null    object \n",
      "dtypes: float64(2), int64(5), object(5)\n",
      "memory usage: 83.7+ KB\n"
     ]
    }
   ],
   "source": [
    "data.info()\n"
   ]
  },
  {
   "cell_type": "code",
   "execution_count": 7,
   "id": "8a5e23f2",
   "metadata": {
    "execution": {
     "iopub.execute_input": "2022-03-26T18:24:08.661331Z",
     "iopub.status.busy": "2022-03-26T18:24:08.658671Z",
     "iopub.status.idle": "2022-03-26T18:24:08.668654Z",
     "shell.execute_reply": "2022-03-26T18:24:08.668130Z",
     "shell.execute_reply.started": "2022-03-26T17:36:13.006924Z"
    },
    "papermill": {
     "duration": 0.04753,
     "end_time": "2022-03-26T18:24:08.668807",
     "exception": false,
     "start_time": "2022-03-26T18:24:08.621277",
     "status": "completed"
    },
    "tags": []
   },
   "outputs": [
    {
     "name": "stdout",
     "output_type": "stream",
     "text": [
      "Amount of missing values in each column: \n"
     ]
    },
    {
     "data": {
      "text/plain": [
       "PassengerId      0\n",
       "Survived         0\n",
       "Pclass           0\n",
       "Name             0\n",
       "Sex              0\n",
       "Age            177\n",
       "SibSp            0\n",
       "Parch            0\n",
       "Ticket           0\n",
       "Fare             0\n",
       "Cabin          687\n",
       "Embarked         2\n",
       "dtype: int64"
      ]
     },
     "execution_count": 7,
     "metadata": {},
     "output_type": "execute_result"
    }
   ],
   "source": [
    "print('Amount of missing values in each column: ')\n",
    "data.isnull().sum()"
   ]
  },
  {
   "cell_type": "markdown",
   "id": "454a93c2",
   "metadata": {
    "papermill": {
     "duration": 0.034294,
     "end_time": "2022-03-26T18:24:08.737326",
     "exception": false,
     "start_time": "2022-03-26T18:24:08.703032",
     "status": "completed"
    },
    "tags": []
   },
   "source": [
    "i found out that there is a missing data for Cabin,Age,Embarked!\n",
    "in the next steps I'm going to drop and take the averge of the this three variables, before that, I'm going to show some graphs from the given data:"
   ]
  },
  {
   "cell_type": "markdown",
   "id": "47ecfd71",
   "metadata": {
    "papermill": {
     "duration": 0.033785,
     "end_time": "2022-03-26T18:24:08.805921",
     "exception": false,
     "start_time": "2022-03-26T18:24:08.772136",
     "status": "completed"
    },
    "tags": []
   },
   "source": [
    "**survival graph:** \n",
    "non-survival 0 \n",
    "survival: 1"
   ]
  },
  {
   "cell_type": "code",
   "execution_count": 8,
   "id": "f5318295",
   "metadata": {
    "execution": {
     "iopub.execute_input": "2022-03-26T18:24:08.878223Z",
     "iopub.status.busy": "2022-03-26T18:24:08.877207Z",
     "iopub.status.idle": "2022-03-26T18:24:09.036438Z",
     "shell.execute_reply": "2022-03-26T18:24:09.037307Z",
     "shell.execute_reply.started": "2022-03-26T17:36:13.081610Z"
    },
    "papermill": {
     "duration": 0.197614,
     "end_time": "2022-03-26T18:24:09.037577",
     "exception": false,
     "start_time": "2022-03-26T18:24:08.839963",
     "status": "completed"
    },
    "tags": []
   },
   "outputs": [
    {
     "data": {
      "text/plain": [
       "<AxesSubplot:xlabel='Survived', ylabel='count'>"
      ]
     },
     "execution_count": 8,
     "metadata": {},
     "output_type": "execute_result"
    },
    {
     "data": {
      "image/png": "[encoded data removed]",
      "text/plain": [
       "<Figure size 432x288 with 1 Axes>"
      ]
     },
     "metadata": {
      "needs_background": "light"
     },
     "output_type": "display_data"
    }
   ],
   "source": [
    "sns.countplot(x='Survived', data=data)"
   ]
  },
  {
   "cell_type": "markdown",
   "id": "2b5d26ef",
   "metadata": {
    "papermill": {
     "duration": 0.035148,
     "end_time": "2022-03-26T18:24:09.115537",
     "exception": false,
     "start_time": "2022-03-26T18:24:09.080389",
     "status": "completed"
    },
    "tags": []
   },
   "source": [
    "now I'll show a graph survivals according to gender, and diagnos if the gender of a person really affects survival."
   ]
  },
  {
   "cell_type": "code",
   "execution_count": 9,
   "id": "edcf668e",
   "metadata": {
    "execution": {
     "iopub.execute_input": "2022-03-26T18:24:09.198635Z",
     "iopub.status.busy": "2022-03-26T18:24:09.197937Z",
     "iopub.status.idle": "2022-03-26T18:24:09.212685Z",
     "shell.execute_reply": "2022-03-26T18:24:09.213266Z",
     "shell.execute_reply.started": "2022-03-26T17:36:13.203142Z"
    },
    "papermill": {
     "duration": 0.061704,
     "end_time": "2022-03-26T18:24:09.213435",
     "exception": false,
     "start_time": "2022-03-26T18:24:09.151731",
     "status": "completed"
    },
    "tags": []
   },
   "outputs": [
    {
     "data": {
      "text/html": [
       "<div>\n",
       "<style scoped>\n",
       "    .dataframe tbody tr th:only-of-type {\n",
       "        vertical-align: middle;\n",
       "    }\n",
       "\n",
       "    .dataframe tbody tr th {\n",
       "        vertical-align: top;\n",
       "    }\n",
       "\n",
       "    .dataframe thead th {\n",
       "        text-align: right;\n",
       "    }\n",
       "</style>\n",
       "<table border=\"1\" class=\"dataframe\">\n",
       "  <thead>\n",
       "    <tr style=\"text-align: right;\">\n",
       "      <th></th>\n",
       "      <th></th>\n",
       "      <th>PassengerId</th>\n",
       "      <th>Pclass</th>\n",
       "      <th>Name</th>\n",
       "      <th>Age</th>\n",
       "      <th>SibSp</th>\n",
       "      <th>Parch</th>\n",
       "      <th>Ticket</th>\n",
       "      <th>Fare</th>\n",
       "      <th>Cabin</th>\n",
       "      <th>Embarked</th>\n",
       "    </tr>\n",
       "    <tr>\n",
       "      <th>Sex</th>\n",
       "      <th>Survived</th>\n",
       "      <th></th>\n",
       "      <th></th>\n",
       "      <th></th>\n",
       "      <th></th>\n",
       "      <th></th>\n",
       "      <th></th>\n",
       "      <th></th>\n",
       "      <th></th>\n",
       "      <th></th>\n",
       "      <th></th>\n",
       "    </tr>\n",
       "  </thead>\n",
       "  <tbody>\n",
       "    <tr>\n",
       "      <th rowspan=\"2\" valign=\"top\">female</th>\n",
       "      <th>0</th>\n",
       "      <td>81</td>\n",
       "      <td>81</td>\n",
       "      <td>81</td>\n",
       "      <td>64</td>\n",
       "      <td>81</td>\n",
       "      <td>81</td>\n",
       "      <td>81</td>\n",
       "      <td>81</td>\n",
       "      <td>6</td>\n",
       "      <td>81</td>\n",
       "    </tr>\n",
       "    <tr>\n",
       "      <th>1</th>\n",
       "      <td>233</td>\n",
       "      <td>233</td>\n",
       "      <td>233</td>\n",
       "      <td>197</td>\n",
       "      <td>233</td>\n",
       "      <td>233</td>\n",
       "      <td>233</td>\n",
       "      <td>233</td>\n",
       "      <td>91</td>\n",
       "      <td>231</td>\n",
       "    </tr>\n",
       "    <tr>\n",
       "      <th rowspan=\"2\" valign=\"top\">male</th>\n",
       "      <th>0</th>\n",
       "      <td>468</td>\n",
       "      <td>468</td>\n",
       "      <td>468</td>\n",
       "      <td>360</td>\n",
       "      <td>468</td>\n",
       "      <td>468</td>\n",
       "      <td>468</td>\n",
       "      <td>468</td>\n",
       "      <td>62</td>\n",
       "      <td>468</td>\n",
       "    </tr>\n",
       "    <tr>\n",
       "      <th>1</th>\n",
       "      <td>109</td>\n",
       "      <td>109</td>\n",
       "      <td>109</td>\n",
       "      <td>93</td>\n",
       "      <td>109</td>\n",
       "      <td>109</td>\n",
       "      <td>109</td>\n",
       "      <td>109</td>\n",
       "      <td>45</td>\n",
       "      <td>109</td>\n",
       "    </tr>\n",
       "  </tbody>\n",
       "</table>\n",
       "</div>"
      ],
      "text/plain": [
       "                 PassengerId  Pclass  Name  Age  SibSp  Parch  Ticket  Fare  \\\n",
       "Sex    Survived                                                               \n",
       "female 0                  81      81    81   64     81     81      81    81   \n",
       "       1                 233     233   233  197    233    233     233   233   \n",
       "male   0                 468     468   468  360    468    468     468   468   \n",
       "       1                 109     109   109   93    109    109     109   109   \n",
       "\n",
       "                 Cabin  Embarked  \n",
       "Sex    Survived                   \n",
       "female 0             6        81  \n",
       "       1            91       231  \n",
       "male   0            62       468  \n",
       "       1            45       109  "
      ]
     },
     "execution_count": 9,
     "metadata": {},
     "output_type": "execute_result"
    }
   ],
   "source": [
    "data.groupby(['Sex','Survived']).count()"
   ]
  },
  {
   "cell_type": "code",
   "execution_count": 10,
   "id": "00067407",
   "metadata": {
    "execution": {
     "iopub.execute_input": "2022-03-26T18:24:09.295045Z",
     "iopub.status.busy": "2022-03-26T18:24:09.294174Z",
     "iopub.status.idle": "2022-03-26T18:24:09.313852Z",
     "shell.execute_reply": "2022-03-26T18:24:09.314431Z",
     "shell.execute_reply.started": "2022-03-26T17:36:13.225781Z"
    },
    "papermill": {
     "duration": 0.063489,
     "end_time": "2022-03-26T18:24:09.314623",
     "exception": false,
     "start_time": "2022-03-26T18:24:09.251134",
     "status": "completed"
    },
    "tags": []
   },
   "outputs": [
    {
     "data": {
      "text/html": [
       "<div>\n",
       "<style scoped>\n",
       "    .dataframe tbody tr th:only-of-type {\n",
       "        vertical-align: middle;\n",
       "    }\n",
       "\n",
       "    .dataframe tbody tr th {\n",
       "        vertical-align: top;\n",
       "    }\n",
       "\n",
       "    .dataframe thead th {\n",
       "        text-align: right;\n",
       "    }\n",
       "</style>\n",
       "<table border=\"1\" class=\"dataframe\">\n",
       "  <thead>\n",
       "    <tr style=\"text-align: right;\">\n",
       "      <th>Survived</th>\n",
       "      <th>0</th>\n",
       "      <th>1</th>\n",
       "    </tr>\n",
       "    <tr>\n",
       "      <th>Sex</th>\n",
       "      <th></th>\n",
       "      <th></th>\n",
       "    </tr>\n",
       "  </thead>\n",
       "  <tbody>\n",
       "    <tr>\n",
       "      <th>female</th>\n",
       "      <td>0.257962</td>\n",
       "      <td>0.742038</td>\n",
       "    </tr>\n",
       "    <tr>\n",
       "      <th>male</th>\n",
       "      <td>0.811092</td>\n",
       "      <td>0.188908</td>\n",
       "    </tr>\n",
       "  </tbody>\n",
       "</table>\n",
       "</div>"
      ],
      "text/plain": [
       "Survived         0         1\n",
       "Sex                         \n",
       "female    0.257962  0.742038\n",
       "male      0.811092  0.188908"
      ]
     },
     "execution_count": 10,
     "metadata": {},
     "output_type": "execute_result"
    }
   ],
   "source": [
    "pd.crosstab(data.Sex, data.Survived, normalize='index')"
   ]
  },
  {
   "cell_type": "code",
   "execution_count": 11,
   "id": "e4017941",
   "metadata": {
    "execution": {
     "iopub.execute_input": "2022-03-26T18:24:09.395435Z",
     "iopub.status.busy": "2022-03-26T18:24:09.394469Z",
     "iopub.status.idle": "2022-03-26T18:24:09.647796Z",
     "shell.execute_reply": "2022-03-26T18:24:09.647241Z",
     "shell.execute_reply.started": "2022-03-26T17:36:13.252426Z"
    },
    "papermill": {
     "duration": 0.296859,
     "end_time": "2022-03-26T18:24:09.647941",
     "exception": false,
     "start_time": "2022-03-26T18:24:09.351082",
     "status": "completed"
    },
    "tags": []
   },
   "outputs": [
    {
     "data": {
      "text/plain": [
       "[Text(0.5, 0, 'No'), Text(1.5, 0, 'Yes')]"
      ]
     },
     "execution_count": 11,
     "metadata": {},
     "output_type": "execute_result"
    },
    {
     "data": {
      "image/png": "[encoded data removed]",
      "text/plain": [
       "<Figure size 432x288 with 2 Axes>"
      ]
     },
     "metadata": {
      "needs_background": "light"
     },
     "output_type": "display_data"
    }
   ],
   "source": [
    "a = sns.heatmap(pd.crosstab(data.Sex, data.Survived, normalize='index'),vmin=0.01, cmap=\"YlGnBu\", annot=True)\n",
    "a.set_xticklabels(['No','Yes'])"
   ]
  },
  {
   "cell_type": "code",
   "execution_count": 12,
   "id": "27d9182b",
   "metadata": {
    "execution": {
     "iopub.execute_input": "2022-03-26T18:24:09.726408Z",
     "iopub.status.busy": "2022-03-26T18:24:09.725802Z",
     "iopub.status.idle": "2022-03-26T18:24:09.934029Z",
     "shell.execute_reply": "2022-03-26T18:24:09.933300Z",
     "shell.execute_reply.started": "2022-03-26T17:36:13.724526Z"
    },
    "papermill": {
     "duration": 0.248636,
     "end_time": "2022-03-26T18:24:09.934179",
     "exception": false,
     "start_time": "2022-03-26T18:24:09.685543",
     "status": "completed"
    },
    "tags": []
   },
   "outputs": [
    {
     "data": {
      "text/plain": [
       "<AxesSubplot:xlabel='Survived', ylabel='count'>"
      ]
     },
     "execution_count": 12,
     "metadata": {},
     "output_type": "execute_result"
    },
    {
     "data": {
      "image/png": "[encoded data removed]",
      "text/plain": [
       "<Figure size 432x288 with 1 Axes>"
      ]
     },
     "metadata": {
      "needs_background": "light"
     },
     "output_type": "display_data"
    }
   ],
   "source": [
    "sns.countplot(x='Survived',hue='Sex', data=data)"
   ]
  },
  {
   "cell_type": "code",
   "execution_count": 13,
   "id": "2fac4463",
   "metadata": {
    "execution": {
     "iopub.execute_input": "2022-03-26T18:24:10.016550Z",
     "iopub.status.busy": "2022-03-26T18:24:10.015532Z",
     "iopub.status.idle": "2022-03-26T18:24:10.266849Z",
     "shell.execute_reply": "2022-03-26T18:24:10.267322Z",
     "shell.execute_reply.started": "2022-03-26T17:36:13.928338Z"
    },
    "papermill": {
     "duration": 0.294393,
     "end_time": "2022-03-26T18:24:10.267512",
     "exception": false,
     "start_time": "2022-03-26T18:24:09.973119",
     "status": "completed"
    },
    "tags": []
   },
   "outputs": [
    {
     "data": {
      "text/plain": [
       "[Text(0.5, 0, 'No'), Text(1.5, 0, 'Yes')]"
      ]
     },
     "execution_count": 13,
     "metadata": {},
     "output_type": "execute_result"
    },
    {
     "data": {
      "image/png": "[encoded data removed]",
      "text/plain": [
       "<Figure size 432x288 with 2 Axes>"
      ]
     },
     "metadata": {
      "needs_background": "light"
     },
     "output_type": "display_data"
    }
   ],
   "source": [
    "a = sns.heatmap(pd.crosstab(data.Embarked, data.Survived, normalize='index'),vmin=0.01, cmap=\"YlGnBu\",annot=True)\n",
    "a.set_xticklabels(['No','Yes'])"
   ]
  },
  {
   "cell_type": "code",
   "execution_count": 14,
   "id": "4ab4ba65",
   "metadata": {
    "execution": {
     "iopub.execute_input": "2022-03-26T18:24:10.356888Z",
     "iopub.status.busy": "2022-03-26T18:24:10.355844Z",
     "iopub.status.idle": "2022-03-26T18:24:10.602927Z",
     "shell.execute_reply": "2022-03-26T18:24:10.602352Z",
     "shell.execute_reply.started": "2022-03-26T17:36:14.190263Z"
    },
    "papermill": {
     "duration": 0.294795,
     "end_time": "2022-03-26T18:24:10.603063",
     "exception": false,
     "start_time": "2022-03-26T18:24:10.308268",
     "status": "completed"
    },
    "tags": []
   },
   "outputs": [
    {
     "data": {
      "image/png": "[encoded data removed]",
      "text/plain": [
       "<Figure size 432x288 with 1 Axes>"
      ]
     },
     "metadata": {
      "needs_background": "light"
     },
     "output_type": "display_data"
    }
   ],
   "source": [
    "s = pd.crosstab(data.Embarked, data.Survived, normalize='index').plot(kind='bar')"
   ]
  },
  {
   "cell_type": "code",
   "execution_count": 15,
   "id": "2842ded8",
   "metadata": {
    "execution": {
     "iopub.execute_input": "2022-03-26T18:24:10.688140Z",
     "iopub.status.busy": "2022-03-26T18:24:10.687491Z",
     "iopub.status.idle": "2022-03-26T18:24:10.693714Z",
     "shell.execute_reply": "2022-03-26T18:24:10.694283Z",
     "shell.execute_reply.started": "2022-03-26T17:36:14.419728Z"
    },
    "papermill": {
     "duration": 0.050469,
     "end_time": "2022-03-26T18:24:10.694437",
     "exception": false,
     "start_time": "2022-03-26T18:24:10.643968",
     "status": "completed"
    },
    "tags": []
   },
   "outputs": [
    {
     "data": {
      "text/plain": [
       "S    644\n",
       "C    168\n",
       "Q     77\n",
       "Name: Embarked, dtype: int64"
      ]
     },
     "execution_count": 15,
     "metadata": {},
     "output_type": "execute_result"
    }
   ],
   "source": [
    "data.Embarked.value_counts()"
   ]
  },
  {
   "cell_type": "markdown",
   "id": "97b95370",
   "metadata": {
    "papermill": {
     "duration": 0.040672,
     "end_time": "2022-03-26T18:24:10.776398",
     "exception": false,
     "start_time": "2022-03-26T18:24:10.735726",
     "status": "completed"
    },
    "tags": []
   },
   "source": [
    "now I'm gonna drop the missing data of the Cabin:"
   ]
  },
  {
   "cell_type": "code",
   "execution_count": 16,
   "id": "ca718192",
   "metadata": {
    "execution": {
     "iopub.execute_input": "2022-03-26T18:24:10.877333Z",
     "iopub.status.busy": "2022-03-26T18:24:10.876707Z",
     "iopub.status.idle": "2022-03-26T18:24:10.881689Z",
     "shell.execute_reply": "2022-03-26T18:24:10.881183Z",
     "shell.execute_reply.started": "2022-03-26T17:36:14.428308Z"
    },
    "papermill": {
     "duration": 0.064149,
     "end_time": "2022-03-26T18:24:10.881819",
     "exception": false,
     "start_time": "2022-03-26T18:24:10.817670",
     "status": "completed"
    },
    "tags": []
   },
   "outputs": [
    {
     "name": "stdout",
     "output_type": "stream",
     "text": [
      "<class 'pandas.core.frame.DataFrame'>\n",
      "RangeIndex: 891 entries, 0 to 890\n",
      "Data columns (total 11 columns):\n",
      " #   Column       Non-Null Count  Dtype  \n",
      "---  ------       --------------  -----  \n",
      " 0   PassengerId  891 non-null    int64  \n",
      " 1   Survived     891 non-null    int64  \n",
      " 2   Pclass       891 non-null    int64  \n",
      " 3   Name         891 non-null    object \n",
      " 4   Sex          891 non-null    object \n",
      " 5   Age          714 non-null    float64\n",
      " 6   SibSp        891 non-null    int64  \n",
      " 7   Parch        891 non-null    int64  \n",
      " 8   Ticket       891 non-null    object \n",
      " 9   Fare         891 non-null    float64\n",
      " 10  Embarked     889 non-null    object \n",
      "dtypes: float64(2), int64(5), object(4)\n",
      "memory usage: 76.7+ KB\n"
     ]
    },
    {
     "data": {
      "text/plain": [
       "PassengerId      0\n",
       "Survived         0\n",
       "Pclass           0\n",
       "Name             0\n",
       "Sex              0\n",
       "Age            177\n",
       "SibSp            0\n",
       "Parch            0\n",
       "Ticket           0\n",
       "Fare             0\n",
       "Embarked         2\n",
       "dtype: int64"
      ]
     },
     "execution_count": 16,
     "metadata": {},
     "output_type": "execute_result"
    }
   ],
   "source": [
    "data.drop('Cabin',axis =1 , inplace = True)\n",
    "data.info()\n",
    "data.isnull().sum()\n"
   ]
  },
  {
   "cell_type": "markdown",
   "id": "36ffd09d",
   "metadata": {
    "papermill": {
     "duration": 0.042335,
     "end_time": "2022-03-26T18:24:10.966316",
     "exception": false,
     "start_time": "2022-03-26T18:24:10.923981",
     "status": "completed"
    },
    "tags": []
   },
   "source": [
    "Embarked has only 2 missing values, im gonna drop them"
   ]
  },
  {
   "cell_type": "code",
   "execution_count": 17,
   "id": "8e9bdc0b",
   "metadata": {
    "execution": {
     "iopub.execute_input": "2022-03-26T18:24:11.064172Z",
     "iopub.status.busy": "2022-03-26T18:24:11.055803Z",
     "iopub.status.idle": "2022-03-26T18:24:11.067534Z",
     "shell.execute_reply": "2022-03-26T18:24:11.068075Z",
     "shell.execute_reply.started": "2022-03-26T17:36:14.458860Z"
    },
    "papermill": {
     "duration": 0.059958,
     "end_time": "2022-03-26T18:24:11.068228",
     "exception": false,
     "start_time": "2022-03-26T18:24:11.008270",
     "status": "completed"
    },
    "tags": []
   },
   "outputs": [
    {
     "name": "stdout",
     "output_type": "stream",
     "text": [
      "<class 'pandas.core.frame.DataFrame'>\n",
      "Int64Index: 889 entries, 0 to 890\n",
      "Data columns (total 11 columns):\n",
      " #   Column       Non-Null Count  Dtype  \n",
      "---  ------       --------------  -----  \n",
      " 0   PassengerId  889 non-null    int64  \n",
      " 1   Survived     889 non-null    int64  \n",
      " 2   Pclass       889 non-null    int64  \n",
      " 3   Name         889 non-null    object \n",
      " 4   Sex          889 non-null    object \n",
      " 5   Age          712 non-null    float64\n",
      " 6   SibSp        889 non-null    int64  \n",
      " 7   Parch        889 non-null    int64  \n",
      " 8   Ticket       889 non-null    object \n",
      " 9   Fare         889 non-null    float64\n",
      " 10  Embarked     889 non-null    object \n",
      "dtypes: float64(2), int64(5), object(4)\n",
      "memory usage: 83.3+ KB\n"
     ]
    }
   ],
   "source": [
    "\n",
    "data = data[data['Embarked'].notna()]\n",
    "data.info()"
   ]
  },
  {
   "cell_type": "markdown",
   "id": "fad12066",
   "metadata": {
    "papermill": {
     "duration": 0.042063,
     "end_time": "2022-03-26T18:24:11.152758",
     "exception": false,
     "start_time": "2022-03-26T18:24:11.110695",
     "status": "completed"
    },
    "tags": []
   },
   "source": [
    "taking the mean of the Age:"
   ]
  },
  {
   "cell_type": "code",
   "execution_count": 18,
   "id": "00529fef",
   "metadata": {
    "execution": {
     "iopub.execute_input": "2022-03-26T18:24:11.240378Z",
     "iopub.status.busy": "2022-03-26T18:24:11.239792Z",
     "iopub.status.idle": "2022-03-26T18:24:11.244751Z",
     "shell.execute_reply": "2022-03-26T18:24:11.245239Z",
     "shell.execute_reply.started": "2022-03-26T17:36:14.479527Z"
    },
    "papermill": {
     "duration": 0.050288,
     "end_time": "2022-03-26T18:24:11.245397",
     "exception": false,
     "start_time": "2022-03-26T18:24:11.195109",
     "status": "completed"
    },
    "tags": []
   },
   "outputs": [],
   "source": [
    "data.fillna(data['Age'].mean(), inplace=True )"
   ]
  },
  {
   "cell_type": "code",
   "execution_count": 19,
   "id": "13afb58e",
   "metadata": {
    "execution": {
     "iopub.execute_input": "2022-03-26T18:24:11.335877Z",
     "iopub.status.busy": "2022-03-26T18:24:11.332561Z",
     "iopub.status.idle": "2022-03-26T18:24:11.364629Z",
     "shell.execute_reply": "2022-03-26T18:24:11.365121Z",
     "shell.execute_reply.started": "2022-03-26T17:36:14.493142Z"
    },
    "papermill": {
     "duration": 0.077584,
     "end_time": "2022-03-26T18:24:11.365297",
     "exception": false,
     "start_time": "2022-03-26T18:24:11.287713",
     "status": "completed"
    },
    "tags": []
   },
   "outputs": [
    {
     "name": "stdout",
     "output_type": "stream",
     "text": [
      "<class 'pandas.core.frame.DataFrame'>\n",
      "Int64Index: 889 entries, 0 to 890\n",
      "Data columns (total 11 columns):\n",
      " #   Column       Non-Null Count  Dtype  \n",
      "---  ------       --------------  -----  \n",
      " 0   PassengerId  889 non-null    int64  \n",
      " 1   Survived     889 non-null    int64  \n",
      " 2   Pclass       889 non-null    int64  \n",
      " 3   Name         889 non-null    object \n",
      " 4   Sex          889 non-null    object \n",
      " 5   Age          889 non-null    float64\n",
      " 6   SibSp        889 non-null    int64  \n",
      " 7   Parch        889 non-null    int64  \n",
      " 8   Ticket       889 non-null    object \n",
      " 9   Fare         889 non-null    float64\n",
      " 10  Embarked     889 non-null    object \n",
      "dtypes: float64(2), int64(5), object(4)\n",
      "memory usage: 83.3+ KB\n"
     ]
    }
   ],
   "source": [
    "data.describe()\n",
    "data.info()"
   ]
  },
  {
   "cell_type": "code",
   "execution_count": 20,
   "id": "b4a8c74d",
   "metadata": {
    "execution": {
     "iopub.execute_input": "2022-03-26T18:24:11.453645Z",
     "iopub.status.busy": "2022-03-26T18:24:11.453015Z",
     "iopub.status.idle": "2022-03-26T18:24:11.943252Z",
     "shell.execute_reply": "2022-03-26T18:24:11.942689Z",
     "shell.execute_reply.started": "2022-03-26T17:36:14.528930Z"
    },
    "papermill": {
     "duration": 0.535118,
     "end_time": "2022-03-26T18:24:11.943384",
     "exception": false,
     "start_time": "2022-03-26T18:24:11.408266",
     "status": "completed"
    },
    "tags": []
   },
   "outputs": [
    {
     "data": {
      "image/png": "[encoded data removed]",
      "text/plain": [
       "<Figure size 1152x720 with 2 Axes>"
      ]
     },
     "metadata": {
      "needs_background": "light"
     },
     "output_type": "display_data"
    }
   ],
   "source": [
    "plt.figure(figsize=(16,10))\n",
    "sns.heatmap(data.corr(), annot=True)\n",
    "plt.show()"
   ]
  },
  {
   "cell_type": "markdown",
   "id": "fe0c85f5",
   "metadata": {
    "papermill": {
     "duration": 0.045229,
     "end_time": "2022-03-26T18:24:12.033394",
     "exception": false,
     "start_time": "2022-03-26T18:24:11.988165",
     "status": "completed"
    },
    "tags": []
   },
   "source": [
    "With the data cleaned we proceed to train and test models."
   ]
  },
  {
   "cell_type": "code",
   "execution_count": 21,
   "id": "102fa0da",
   "metadata": {
    "execution": {
     "iopub.execute_input": "2022-03-26T18:24:12.126487Z",
     "iopub.status.busy": "2022-03-26T18:24:12.125874Z",
     "iopub.status.idle": "2022-03-26T18:24:12.849916Z",
     "shell.execute_reply": "2022-03-26T18:24:12.850437Z",
     "shell.execute_reply.started": "2022-03-26T17:36:15.018013Z"
    },
    "papermill": {
     "duration": 0.771975,
     "end_time": "2022-03-26T18:24:12.850630",
     "exception": false,
     "start_time": "2022-03-26T18:24:12.078655",
     "status": "completed"
    },
    "tags": []
   },
   "outputs": [
    {
     "name": "stdout",
     "output_type": "stream",
     "text": [
      "Submission saved\n"
     ]
    }
   ],
   "source": [
    "from sklearn.ensemble import RandomForestClassifier\n",
    "y = data[\"Survived\"]\n",
    "\n",
    "features = [\"Pclass\", \"Sex\", \"SibSp\", \"Parch\"]\n",
    "X = pd.get_dummies(data[features])\n",
    "X_check = pd.get_dummies(check[features])\n",
    "\n",
    "model = RandomForestClassifier(n_estimators=100, max_depth=5, random_state=1)\n",
    "model.fit(X, y)\n",
    "predictions = model.predict(X_check)\n",
    "\n",
    "output = pd.DataFrame({'PassengerId': check.PassengerId, 'Survived': predictions})\n",
    "output.to_csv('submission.csv', index=False)\n",
    "print(\"Submission saved\")"
   ]
  },
  {
   "cell_type": "code",
   "execution_count": 22,
   "id": "95bda11d",
   "metadata": {
    "execution": {
     "iopub.execute_input": "2022-03-26T18:24:12.944677Z",
     "iopub.status.busy": "2022-03-26T18:24:12.944054Z",
     "iopub.status.idle": "2022-03-26T18:24:12.949584Z",
     "shell.execute_reply": "2022-03-26T18:24:12.950126Z",
     "shell.execute_reply.started": "2022-03-26T17:36:15.238043Z"
    },
    "papermill": {
     "duration": 0.054556,
     "end_time": "2022-03-26T18:24:12.950278",
     "exception": false,
     "start_time": "2022-03-26T18:24:12.895722",
     "status": "completed"
    },
    "tags": []
   },
   "outputs": [],
   "source": [
    "\n",
    "output.to_csv('submission.csv', index=False)"
   ]
  }
 ],
 "metadata": {
  "kernelspec": {
   "display_name": "Python 3",
   "language": "python",
   "name": "python3"
  },
  "language_info": {
   "codemirror_mode": {
    "name": "ipython",
    "version": 3
   },
   "file_extension": ".py",
   "mimetype": "text/x-python",
   "name": "python",
   "nbconvert_exporter": "python",
   "pygments_lexer": "ipython3",
   "version": "3.7.12"
  },
  "papermill": {
   "default_parameters": {},
   "duration": 17.04876,
   "end_time": "2022-03-26T18:24:13.704989",
   "environment_variables": {},
   "exception": null,
   "input_path": "__notebook__.ipynb",
   "output_path": "__notebook__.ipynb",
   "parameters": {},
   "start_time": "2022-03-26T18:23:56.656229",
   "version": "2.3.3"
  }
 },
 "nbformat": 4,
 "nbformat_minor": 5
}
